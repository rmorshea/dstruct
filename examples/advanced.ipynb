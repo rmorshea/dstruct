{
 "cells": [
  {
   "cell_type": "code",
   "execution_count": 1,
   "metadata": {
    "collapsed": true
   },
   "outputs": [],
   "source": [
    "from dstruct import DataStructFromJSON, DataField, datafield"
   ]
  },
  {
   "cell_type": "code",
   "execution_count": 2,
   "metadata": {
    "collapsed": true
   },
   "outputs": [],
   "source": [
    "class AccountSummaryFromFile(DataStructFromJSON):\n",
    "    \n",
    "    user = DataField(str)\n",
    "    type = DataField(str, 'account', 'account-type')\n",
    "    ballance = DataField(float, 'account', 'account-ballance')\n",
    "    # you can pass functions to `dtype` for simple data parsing or type coersion\n",
    "    account_number = DataField(lambda s: 'X'*len(s[:-4])+s[-4:], 'account', 'account-number')"
   ]
  },
  {
   "cell_type": "code",
   "execution_count": 3,
   "metadata": {
    "collapsed": false
   },
   "outputs": [
    {
     "name": "stdout",
     "output_type": "stream",
     "text": [
      "AccountSummaryFromFile(\n",
      "    \"account_number\": \"XXXXX6789\",\n",
      "    \"ballance\": 1234.56,\n",
      "    \"type\": \"checking\",\n",
      "    \"user\": \"John F. Doe\"\n",
      ")\n"
     ]
    }
   ],
   "source": [
    "print(AccountSummaryFromFile('bank_data.json'))"
   ]
  },
  {
   "cell_type": "code",
   "execution_count": 4,
   "metadata": {
    "collapsed": true
   },
   "outputs": [],
   "source": [
    "from dstruct import DataStruct\n",
    "from datetime import datetime"
   ]
  },
  {
   "cell_type": "code",
   "execution_count": 5,
   "metadata": {
    "collapsed": true
   },
   "outputs": [],
   "source": [
    "class Transaction(DataStruct):\n",
    "    \n",
    "    amount = DataField(float)\n",
    "    \n",
    "    # use the `datafield` decorator for\n",
    "    # more complex parsing functions\n",
    "    @datafield(dict, path=None)\n",
    "    def time(self, data):\n",
    "        s = data['utc-unix']\n",
    "        tz = data['time-zone']\n",
    "        if 'UTC' not in tz:\n",
    "            raise ValueError(\"Unknow time-zone standard: '%s'\" % tz)\n",
    "        else:\n",
    "            dif = tz.replace('UTC', '')\n",
    "            # trick for adding time-zone\n",
    "            s = eval(str(s)+dif+'*60*60')\n",
    "\n",
    "        dt = datetime.fromtimestamp(s)\n",
    "        # return the parsed epoch time\n",
    "        # for the given time-zone\n",
    "        return dt.strftime('%Y-%m-%d %H:%M:%S')\n",
    "    \n",
    "    @datafield(dict, 'source')\n",
    "    def source(self, data):\n",
    "        t = data['type']\n",
    "        if '-' in t:\n",
    "            s = ''\n",
    "            for sub in t.split('-'):\n",
    "                s += sub.capitalize()\n",
    "        else:\n",
    "            s = t.capitalize()\n",
    "\n",
    "        cls = eval(s)\n",
    "        return cls(data)\n",
    "    \n",
    "\n",
    "class TransactionSource(DataStruct):\n",
    "    \n",
    "    ref = DataField(str)\n",
    "    \n",
    "class Purchase(TransactionSource):\n",
    "    \n",
    "    at = DataField(str, 'name')\n",
    "    card = DataField(lambda s: 'X'*len(s[:-4])+s[-4:])\n",
    "    \n",
    "class MobileDeposit(TransactionSource):\n",
    "    \n",
    "    note = DataField(str)\n",
    "    check_number = DataField(str, 'check-number')\n",
    "\n",
    "\n",
    "class DetailedAccountSummary(AccountSummaryFromFile):\n",
    "    \n",
    "    last_withdraw = DataField(Transaction, 'account', 'withdrawn', '0')\n",
    "    last_deposit = DataField(Transaction, 'account', 'deposited', '0')"
   ]
  },
  {
   "cell_type": "code",
   "execution_count": 6,
   "metadata": {
    "collapsed": false
   },
   "outputs": [
    {
     "name": "stdout",
     "output_type": "stream",
     "text": [
      "DetailedAccountSummary(\n",
      "    \"account_number\": \"XXXXX6789\",\n",
      "    \"ballance\": 1234.56,\n",
      "    \"last_deposit\": {\n",
      "        \"amount\": 1057.21,\n",
      "        \"source\": {\n",
      "            \"check_number\": \"1229361\",\n",
      "            \"note\": \"bi-weekly paycheck\",\n",
      "            \"ref\": \" #IB3GFRZG31\"\n",
      "        },\n",
      "        \"time\": \"2016-03-08 06:34:51\"\n",
      "    },\n",
      "    \"last_withdraw\": {\n",
      "        \"amount\": 1057.21,\n",
      "        \"source\": {\n",
      "            \"at\": \"Average-Restaurant\",\n",
      "            \"card\": \"XXXXXXXXXXXX1112\",\n",
      "            \"ref\": \"S567013305806010\"\n",
      "        },\n",
      "        \"time\": \"2016-03-08 06:34:51\"\n",
      "    },\n",
      "    \"type\": \"checking\",\n",
      "    \"user\": \"John F. Doe\"\n",
      ")\n"
     ]
    }
   ],
   "source": [
    "print(DetailedAccountSummary('bank_data.json'))"
   ]
  },
  {
   "cell_type": "code",
   "execution_count": 21,
   "metadata": {
    "collapsed": true
   },
   "outputs": [],
   "source": [
    "import inspect\n",
    "import sys"
   ]
  },
  {
   "cell_type": "code",
   "execution_count": 24,
   "metadata": {
    "collapsed": false
   },
   "outputs": [],
   "source": [
    "def repr_type(obj):\n",
    "    \"\"\" Return a string representation of a value and its type for readable\n",
    "    error messages.\n",
    "    \"\"\"\n",
    "    the_type = type(obj)\n",
    "    if (not py3compat.PY3) and the_type is InstanceType:\n",
    "        # Old-style class.\n",
    "        the_type = obj.__class__\n",
    "    msg = '%r %r' % (obj, the_type)\n",
    "    return msg"
   ]
  },
  {
   "cell_type": "code",
   "execution_count": 25,
   "metadata": {
    "collapsed": false
   },
   "outputs": [
    {
     "data": {
      "text/plain": [
       "\"1 <type 'int'>\""
      ]
     },
     "execution_count": 25,
     "metadata": {},
     "output_type": "execute_result"
    }
   ],
   "source": [
    "repr_type(1)"
   ]
  },
  {
   "cell_type": "code",
   "execution_count": 26,
   "metadata": {
    "collapsed": true
   },
   "outputs": [],
   "source": [
    "class A(object):\n",
    "    \n",
    "    a = 'a'"
   ]
  },
  {
   "cell_type": "code",
   "execution_count": 28,
   "metadata": {
    "collapsed": false
   },
   "outputs": [
    {
     "ename": "NameError",
     "evalue": "name 'a' is not defined",
     "output_type": "error",
     "traceback": [
      "\u001b[0;31m---------------------------------------------------------------------------\u001b[0m",
      "\u001b[0;31mNameError\u001b[0m                                 Traceback (most recent call last)",
      "\u001b[0;32m<ipython-input-28-8a4c9bdf666e>\u001b[0m in \u001b[0;36m<module>\u001b[0;34m()\u001b[0m\n\u001b[0;32m----> 1\u001b[0;31m \u001b[0;32mclass\u001b[0m \u001b[0mB\u001b[0m\u001b[0;34m(\u001b[0m\u001b[0mA\u001b[0m\u001b[0;34m)\u001b[0m\u001b[0;34m:\u001b[0m\u001b[0;34m\u001b[0m\u001b[0m\n\u001b[0m\u001b[1;32m      2\u001b[0m     \u001b[0ma\u001b[0m \u001b[0;34m+=\u001b[0m \u001b[0;34m'b'\u001b[0m\u001b[0;34m\u001b[0m\u001b[0m\n",
      "\u001b[0;32m<ipython-input-28-8a4c9bdf666e>\u001b[0m in \u001b[0;36mB\u001b[0;34m()\u001b[0m\n\u001b[1;32m      1\u001b[0m \u001b[0;32mclass\u001b[0m \u001b[0mB\u001b[0m\u001b[0;34m(\u001b[0m\u001b[0mA\u001b[0m\u001b[0;34m)\u001b[0m\u001b[0;34m:\u001b[0m\u001b[0;34m\u001b[0m\u001b[0m\n\u001b[0;32m----> 2\u001b[0;31m     \u001b[0ma\u001b[0m \u001b[0;34m+=\u001b[0m \u001b[0;34m'b'\u001b[0m\u001b[0;34m\u001b[0m\u001b[0m\n\u001b[0m",
      "\u001b[0;31mNameError\u001b[0m: name 'a' is not defined"
     ]
    }
   ],
   "source": []
  },
  {
   "cell_type": "code",
   "execution_count": null,
   "metadata": {
    "collapsed": true
   },
   "outputs": [],
   "source": []
  }
 ],
 "metadata": {
  "kernelspec": {
   "display_name": "Python 2",
   "language": "python",
   "name": "python2"
  },
  "language_info": {
   "codemirror_mode": {
    "name": "ipython",
    "version": 2
   },
   "file_extension": ".py",
   "mimetype": "text/x-python",
   "name": "python",
   "nbconvert_exporter": "python",
   "pygments_lexer": "ipython2",
   "version": "2.7.11"
  }
 },
 "nbformat": 4,
 "nbformat_minor": 1
}
