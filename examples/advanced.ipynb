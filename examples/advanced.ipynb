{
 "cells": [
  {
   "cell_type": "markdown",
   "metadata": {},
   "source": [
    "# advanced `dstruct` usage\n",
    "\n",
    "---\n",
    "\n",
    "### 1. we repeate a part of the basic example to make an account summary"
   ]
  },
  {
   "cell_type": "code",
   "execution_count": 1,
   "metadata": {
    "collapsed": false
   },
   "outputs": [],
   "source": [
    "from dstruct import DataStructFromJSON, DataField, datafield"
   ]
  },
  {
   "cell_type": "code",
   "execution_count": 2,
   "metadata": {
    "collapsed": false
   },
   "outputs": [],
   "source": [
    "# taken from the basic example\n",
    "class AccountSummaryFromFile(DataStructFromJSON):\n",
    "    \n",
    "    user = DataField()\n",
    "    type = DataField('account', 'account-type')\n",
    "    ballance = DataField('account', 'account-ballance')\n",
    "    # you can pass functions under the keyword \"parser\" to parse raw data parsing\n",
    "    account_number = DataField('account', 'account-number', parser=lambda s: 'X'*len(s[:-4])+s[-4:])"
   ]
  },
  {
   "cell_type": "code",
   "execution_count": 3,
   "metadata": {
    "collapsed": false
   },
   "outputs": [
    {
     "data": {
      "text/plain": [
       "{\"ballance\": 1234.56, \"type\": \"checking\", \"user\": \"John F. Doe\", \"account_number\": \"XXXXX6789\"}"
      ]
     },
     "execution_count": 3,
     "metadata": {},
     "output_type": "execute_result"
    }
   ],
   "source": [
    "AccountSummaryFromFile('data_files/bank_data.json')"
   ]
  },
  {
   "cell_type": "markdown",
   "metadata": {},
   "source": [
    "### 2. use nested `DataStructs`\n",
    "\n",
    "+ nesting `DataStructs` allows for much more complex parsing patterns."
   ]
  },
  {
   "cell_type": "code",
   "execution_count": 4,
   "metadata": {
    "collapsed": true
   },
   "outputs": [],
   "source": [
    "from dstruct import DataStruct\n",
    "from datetime import datetime"
   ]
  },
  {
   "cell_type": "code",
   "execution_count": 5,
   "metadata": {
    "collapsed": false
   },
   "outputs": [],
   "source": [
    "class Transaction(DataStruct):\n",
    "    \n",
    "    amount = DataField()\n",
    "\n",
    "    @datafield(path=None)\n",
    "    def time(self, data):\n",
    "        s = data['utc-unix']\n",
    "        tz = data['time-zone']\n",
    "        if 'UTC' not in tz:\n",
    "            raise ValueError(\"Unknow time-zone standard: '%s'\" % tz)\n",
    "        else:\n",
    "            dif = tz.replace('UTC', '')\n",
    "            # trick for adding time-zone\n",
    "            s = eval(str(s)+dif+'*60*60')\n",
    "\n",
    "        dt = datetime.fromtimestamp(s)\n",
    "        # return the parsed epoch time\n",
    "        # for the given time-zone\n",
    "        return dt.strftime('%Y-%m-%d %H:%M:%S')\n",
    "    \n",
    "    @datafield('source')\n",
    "    def source(self, data):\n",
    "        t = data['type']\n",
    "        # we use the transaction type\n",
    "        # to identify which kind of\n",
    "        # `DataStruct` should be used\n",
    "        if '-' in t:\n",
    "            s = ''\n",
    "            for sub in t.split('-'):\n",
    "                s += sub.capitalize()\n",
    "        else:\n",
    "            s = t.capitalize()\n",
    "        \n",
    "        # we use `eval` to grab\n",
    "        # the appropriate struct\n",
    "        cls = eval(s)\n",
    "        return cls(data)\n",
    "    \n",
    "\n",
    "class TransactionSource(DataStruct):\n",
    "    \n",
    "    ref = DataField()\n",
    "    \n",
    "class Purchase(TransactionSource):\n",
    "\n",
    "    type = DataField()\n",
    "    at = DataField('name')\n",
    "    card = DataField(parser=lambda s: 'X'*len(s[:-4])+s[-4:])\n",
    "    \n",
    "class MobileDeposit(TransactionSource):\n",
    "\n",
    "    type = DataField()\n",
    "    note = DataField()\n",
    "    check_number = DataField('check-number')\n",
    "\n",
    "\n",
    "class DetailedAccountSummary(AccountSummaryFromFile):\n",
    "    \n",
    "    last_withdraw = DataField('account', 'withdrawn', '0', parser=Transaction)\n",
    "    last_deposit = DataField('account', 'deposited', '0', parser=Transaction)"
   ]
  },
  {
   "cell_type": "markdown",
   "metadata": {},
   "source": [
    "### The Parsed Account Summary"
   ]
  },
  {
   "cell_type": "code",
   "execution_count": 6,
   "metadata": {
    "collapsed": false
   },
   "outputs": [
    {
     "name": "stdout",
     "output_type": "stream",
     "text": [
      "{\n",
      "    \"account_number\": \"XXXXX6789\",\n",
      "    \"ballance\": 1234.56,\n",
      "    \"last_deposit\": {\n",
      "        \"amount\": 1057.21,\n",
      "        \"source\": {\n",
      "            \"check_number\": \"1229361\",\n",
      "            \"note\": \"bi-weekly paycheck\",\n",
      "            \"ref\": \" #IB3GFRZG31\",\n",
      "            \"type\": \"mobile-deposit\"\n",
      "        },\n",
      "        \"time\": \"2016-03-08 06:34:51\"\n",
      "    },\n",
      "    \"last_withdraw\": {\n",
      "        \"amount\": 1057.21,\n",
      "        \"source\": {\n",
      "            \"at\": \"Average-Restaurant\",\n",
      "            \"card\": \"XXXXXXXXXXXX1112\",\n",
      "            \"ref\": \"S567013305806010\",\n",
      "            \"type\": \"purchase\"\n",
      "        },\n",
      "        \"time\": \"2016-03-08 06:34:51\"\n",
      "    },\n",
      "    \"type\": \"checking\",\n",
      "    \"user\": \"John F. Doe\"\n",
      "}\n"
     ]
    }
   ],
   "source": [
    "print(DetailedAccountSummary('data_files/bank_data.json'))"
   ]
  },
  {
   "cell_type": "markdown",
   "metadata": {
    "collapsed": true
   },
   "source": [
    "### The Raw JSON Data:\n",
    "\n",
    "```\n",
    "{\n",
    "    \"user\": \"John F. Doe\",\n",
    "    \"billing-address\": \"123 Any Street Apt. 45 / Smallville, KS 1235\",\n",
    "    \"account\": {\n",
    "        \"account-type\": \"checking\",\n",
    "        \"routing-number\": \"056004241\",\n",
    "        \"account-number\": \"123456789\",\n",
    "        \"account-ballance\": 1234.56,\n",
    "        \"deposited\": {\n",
    "            \"0\": {\n",
    "                \"amount\": 1057.21,\n",
    "                \"utc-unix\": 1457476491,\n",
    "                \"time-zone\": \"UTC-8\",\n",
    "                \"source\": {\n",
    "                    \"type\": \"mobile-deposit\",\n",
    "                    \"ref\": \" #IB3GFRZG31\",\n",
    "                    \"routing-number\": \"944145221\",\n",
    "                    \"account-number\": \"123123123\",\n",
    "                    \"check-number\": \"1229361\",\n",
    "                    \"note\": \"bi-weekly paycheck\"\n",
    "                }\n",
    "            },\n",
    "            \"1\": {\n",
    "                \"amount\": \"500.00\",\n",
    "                \"utc-unix\": 1459376666,\n",
    "                \"time-zone\": \"UTC-8\",\n",
    "                \"source\": {\n",
    "                    \"type\": \"online-transfer\",\n",
    "                    \"ref\": \"#IBS5RWGWMM\",\n",
    "                    \"routing-number\": \"044072324\",\n",
    "                    \"account-number\": \"987654321\",\n",
    "                    \"note\": \"monthly refill\"\n",
    "                }\n",
    "            }\n",
    "            \n",
    "        },\n",
    "        \"withdrawn\": {\n",
    "            \"0\": {\n",
    "                \"amount\": 1057.21,\n",
    "                \"utc-unix\": 1457476491,\n",
    "                \"time-zone\": \"UTC-8\",\n",
    "                \"source\": {\n",
    "                    \"card\": \"0123456789101112\",\n",
    "                    \"type\": \"purchase\",\n",
    "                    \"ref\": \"S567013305806010\",\n",
    "                    \"name\": \"Average-Restaurant\"\n",
    "                }\n",
    "            },\n",
    "            \"1\": {\n",
    "                \"amount\": 2.37,\n",
    "                \"utc-unix\": 1457447400,\n",
    "                \"time-zone\": \"UTC-8\",\n",
    "                \"card\": \"0123456789101112\",\n",
    "                \"source\": {\n",
    "                    \"type\": \"purchase\",\n",
    "                    \"ref\": \"S466013457060112\",\n",
    "                    \"name\": \"Average-Restaurant\"\n",
    "                }\n",
    "            }\n",
    "        }\n",
    "    }\n",
    "}\n",
    "```"
   ]
  },
  {
   "cell_type": "code",
   "execution_count": null,
   "metadata": {
    "collapsed": true
   },
   "outputs": [],
   "source": []
  }
 ],
 "metadata": {
  "kernelspec": {
   "display_name": "Python 2",
   "language": "python",
   "name": "python2"
  },
  "language_info": {
   "codemirror_mode": {
    "name": "ipython",
    "version": 2
   },
   "file_extension": ".py",
   "mimetype": "text/x-python",
   "name": "python",
   "nbconvert_exporter": "python",
   "pygments_lexer": "ipython2",
   "version": "2.7.11"
  }
 },
 "nbformat": 4,
 "nbformat_minor": 1
}
