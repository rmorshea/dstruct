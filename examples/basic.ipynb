{
 "cells": [
  {
   "cell_type": "markdown",
   "metadata": {},
   "source": [
    "# basic `dstruct` usage\n",
    "\n",
    "---\n",
    "\n",
    "### 1. sift through a data set for relevant information:"
   ]
  },
  {
   "cell_type": "code",
   "execution_count": 1,
   "metadata": {
    "collapsed": false
   },
   "outputs": [],
   "source": [
    "from dstruct import DataStruct, DataField, datafield"
   ]
  },
  {
   "cell_type": "code",
   "execution_count": 2,
   "metadata": {
    "collapsed": false
   },
   "outputs": [],
   "source": [
    "raw_data = {\n",
    "    \"a\": 1,\n",
    "    \"b\": {\n",
    "        \"c\": 2,\n",
    "        \"d\": 3\n",
    "    }\n",
    "}"
   ]
  },
  {
   "cell_type": "code",
   "execution_count": 3,
   "metadata": {
    "collapsed": false
   },
   "outputs": [],
   "source": [
    "class A(DataStruct):\n",
    "    \n",
    "    a = DataField(int)\n",
    "    c = DataField(int, 'b', 'c')\n",
    "    d = DataField(int, 'b', 'd')"
   ]
  },
  {
   "cell_type": "code",
   "execution_count": 4,
   "metadata": {
    "collapsed": false
   },
   "outputs": [
    {
     "data": {
      "text/plain": [
       "{\"a\": 1, \"c\": 2, \"d\": 3}"
      ]
     },
     "execution_count": 4,
     "metadata": {},
     "output_type": "execute_result"
    }
   ],
   "source": [
    "A(raw_data)"
   ]
  },
  {
   "cell_type": "markdown",
   "metadata": {},
   "source": [
    "### 2. import data sets from json files"
   ]
  },
  {
   "cell_type": "code",
   "execution_count": 5,
   "metadata": {
    "collapsed": false
   },
   "outputs": [],
   "source": [
    "from dstruct import DataStructFromJSON, DataField"
   ]
  },
  {
   "cell_type": "code",
   "execution_count": 6,
   "metadata": {
    "collapsed": false
   },
   "outputs": [],
   "source": [
    "class AccountSummaryFromJSON(DataStructFromJSON):\n",
    "    \n",
    "    user = DataField(str)\n",
    "    type = DataField(str, 'account', 'account-type')\n",
    "    ballance = DataField(float, 'account', 'account-ballance')\n",
    "    # you can pass functions to `dtype` for simple data parsing or type coersion\n",
    "    account_number = DataField(lambda s: 'X'*len(s[:-4])+s[-4:], 'account', 'account-number')"
   ]
  },
  {
   "cell_type": "code",
   "execution_count": 7,
   "metadata": {
    "collapsed": false
   },
   "outputs": [
    {
     "data": {
      "text/plain": [
       "{\"ballance\": 1234.56, \"type\": \"checking\", \"account_number\": \"XXXXX6789\", \"user\": \"John F. Doe\"}"
      ]
     },
     "execution_count": 7,
     "metadata": {},
     "output_type": "execute_result"
    }
   ],
   "source": [
    "AccountSummaryFromJSON('data_files/bank_data.json')"
   ]
  },
  {
   "cell_type": "markdown",
   "metadata": {},
   "source": [
    "### 3. import data sets from csv files:\n",
    "\n",
    "+ The `datafield` decorator, wraps complex parsers as "
   ]
  },
  {
   "cell_type": "code",
   "execution_count": 8,
   "metadata": {
    "collapsed": true
   },
   "outputs": [],
   "source": [
    "from dstruct import DataStructFromCSV, datafield"
   ]
  },
  {
   "cell_type": "code",
   "execution_count": 9,
   "metadata": {
    "collapsed": false
   },
   "outputs": [],
   "source": [
    "class AverageUserFromCSV(DataStructFromCSV):\n",
    "\n",
    "    @datafield(path=None)\n",
    "    def age(self, data):\n",
    "        total = 0\n",
    "        for name in data:\n",
    "            total += int(data[name]['Age'])\n",
    "        return round(float(total)/len(data), 1)\n",
    "    \n",
    "    @datafield(path=None)\n",
    "    def weight(self, data):\n",
    "        total = 0\n",
    "        for name in data:\n",
    "            total += int(data[name]['Weight'])\n",
    "        return round(float(total)/len(data), 1)"
   ]
  },
  {
   "cell_type": "code",
   "execution_count": 10,
   "metadata": {
    "collapsed": false
   },
   "outputs": [
    {
     "data": {
      "text/plain": [
       "{\"age\": 40.0, \"weight\": 174.3}"
      ]
     },
     "execution_count": 10,
     "metadata": {},
     "output_type": "execute_result"
    }
   ],
   "source": [
    "AverageUserFromCSV('data_files/wide.csv')"
   ]
  },
  {
   "cell_type": "markdown",
   "metadata": {},
   "source": [
    "#### + `DataStructFromCSV` understands wide and narrow form data representations"
   ]
  },
  {
   "cell_type": "code",
   "execution_count": 11,
   "metadata": {
    "collapsed": false
   },
   "outputs": [
    {
     "data": {
      "text/plain": [
       "True"
      ]
     },
     "execution_count": 11,
     "metadata": {},
     "output_type": "execute_result"
    }
   ],
   "source": [
    "AverageUserFromCSV('data_files/wide.csv') == AverageUserFromCSV('data_files/narrow.csv')"
   ]
  },
  {
   "cell_type": "code",
   "execution_count": null,
   "metadata": {
    "collapsed": true
   },
   "outputs": [],
   "source": []
  }
 ],
 "metadata": {
  "kernelspec": {
   "display_name": "Python 2",
   "language": "python",
   "name": "python2"
  },
  "language_info": {
   "codemirror_mode": {
    "name": "ipython",
    "version": 2
   },
   "file_extension": ".py",
   "mimetype": "text/x-python",
   "name": "python",
   "nbconvert_exporter": "python",
   "pygments_lexer": "ipython2",
   "version": "2.7.11"
  }
 },
 "nbformat": 4,
 "nbformat_minor": 1
}
